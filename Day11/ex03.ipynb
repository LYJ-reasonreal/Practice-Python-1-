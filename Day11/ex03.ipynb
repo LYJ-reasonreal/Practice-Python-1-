{
 "cells": [
  {
   "cell_type": "markdown",
   "metadata": {},
   "source": [
    "# try-finally\n",
    "- finally절은 try구문에서 예외 발생 여부와 상관없이 항상 실행되는 코드 블록\n",
    "- 예외 처리 후에도 반드시 실행되어야 하는 코드를 작성할 때 사용\n",
    "- 예외가 발생하거나, 발생하지 않거나 항상 실행"
   ]
  },
  {
   "cell_type": "code",
   "execution_count": 1,
   "metadata": {},
   "outputs": [
    {
     "name": "stdout",
     "output_type": "stream",
     "text": [
      "list index out of range\n",
      "try-except 구문 밖 코드\n"
     ]
    }
   ],
   "source": [
    "try:\n",
    "  list = [1, 2, 3, 4]\n",
    "  print(list[5]) # 예외 발생 시점\n",
    "  print(\"try구문 안에 예외 발생 후 코드\")\n",
    "except IndexError as e:\n",
    "  print(e)\n",
    "  \n",
    "print(\"try-except 구문 밖 코드\")\n",
    "\n",
    "# 파일 입출력처럼 리소스를 반드시 닫아야 하는 경우에는 finally 구문 안에서 함께 처리하는 것이 깔끔하고 안정적임"
   ]
  },
  {
   "cell_type": "code",
   "execution_count": 2,
   "metadata": {},
   "outputs": [],
   "source": [
    "try:\n",
    "  f = open('hello.txt', 'w') # 파일 쓰기 모드로 열기\n",
    "  f.write('hello') # 파일에 데이터 쓰기\n",
    "except EOFError as e:\n",
    "  print(e)\n",
    "finally:\n",
    "  f.close() # 파일 닫기\n",
    "  # 예외가 발생하든 하지 않든 무조건 실행\n",
    "\n",
    "\n",
    "print(f.closed) # 파일 close 상태 확인"
   ]
  },
  {
   "cell_type": "markdown",
   "metadata": {},
   "source": [
    "# try-except-else\n",
    "- try 블록 내부의 코드가 예외 없이 정상적으로 실행되어야만 하는 경우에 사용"
   ]
  },
  {
   "cell_type": "code",
   "execution_count": 3,
   "metadata": {},
   "outputs": [
    {
     "name": "stdout",
     "output_type": "stream",
     "text": [
      "invalid literal for int() with base 10: 'ㅁㄴㅇㄹ'\n"
     ]
    }
   ],
   "source": [
    "try:\n",
    "  number = int(input(\"좋아하는 숫자를 입력하세요: \"))\n",
    "except ValueError as e: # 문자열을 정수로 변환할 수 없을 때 예외 발생\n",
    "  print(e) # 예외 객체 e를 출력하여 발생 원인 알림\n",
    "else: # try 블록에서 예외가 발생하지 않고 정상 실행되었을 때 아래의 코드 실행\n",
    "  if number > 0:\n",
    "    print(\"양수를 좋아하는군요!\")\n",
    "  elif number == 0:\n",
    "    print(\"0을 좋아하는군요!\")\n",
    "  else:\n",
    "    print(\"음수를 좋아하는군요!\")\n",
    "    \n",
    "# 만약 숫자가 아닌 문자열을 입력하면 else 구문의 코드는 실행되지 않음\n",
    "# else 구문은 try 블록에서 예외가 발생하지 않고 정상적으로 실행되었을 때만 수행되기 때문!!\n",
    "# 정상적으로 숫자를 입력해야만 else구문의 코드가 실행되어서 입력된 숫자에 대한 유의미한 결과를 출력"
   ]
  },
  {
   "cell_type": "code",
   "execution_count": null,
   "metadata": {},
   "outputs": [],
   "source": [
    "try: \n",
    "  age = int(input(\"나이를 입력하세요: \"))\n",
    "  "
   ]
  },
  {
   "cell_type": "code",
   "execution_count": 4,
   "metadata": {},
   "outputs": [
    {
     "name": "stdout",
     "output_type": "stream",
     "text": [
      "list index out of range\n"
     ]
    }
   ],
   "source": [
    "# 여러개의 예외 처리하기\n",
    "try:\n",
    "  a = [1, 2]\n",
    "  print(a[3])\n",
    "  4/0\n",
    "except ZeroDivisionError as e:\n",
    "  print(e)\n",
    "except IndexError as e:\n",
    "  print(e)\n",
    "  \n",
    "# 인덱싱 예외가 먼저 발생했으므로 4 / 0에 따른 ZeroDivisionError 예외는 발생하지 않음"
   ]
  },
  {
   "cell_type": "code",
   "execution_count": 5,
   "metadata": {},
   "outputs": [
    {
     "name": "stdout",
     "output_type": "stream",
     "text": [
      "list index out of range\n"
     ]
    }
   ],
   "source": [
    "# 여러 개의 예외 함께 처리하기\n",
    "try:\n",
    "  a = [1, 2]\n",
    "  print(a[3])\n",
    "  4/0\n",
    "except (ZeroDivisionError, IndexError) as e:\n",
    "  print(e)\n",
    "  \n",
    "  \n",
    "  # 2개 이상의 예외를 동일하게 처리하기 위해서는 위와 같이 괄호를 사용하여 함께 묶어서 처리"
   ]
  }
 ],
 "metadata": {
  "kernelspec": {
   "display_name": "Python 3",
   "language": "python",
   "name": "python3"
  },
  "language_info": {
   "codemirror_mode": {
    "name": "ipython",
    "version": 3
   },
   "file_extension": ".py",
   "mimetype": "text/x-python",
   "name": "python",
   "nbconvert_exporter": "python",
   "pygments_lexer": "ipython3",
   "version": "3.13.1"
  }
 },
 "nbformat": 4,
 "nbformat_minor": 2
}
