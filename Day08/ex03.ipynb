{
 "cells": [
  {
   "cell_type": "code",
   "execution_count": 2,
   "metadata": {},
   "outputs": [
    {
     "name": "stdout",
     "output_type": "stream",
     "text": [
      "This file contains multiple lines.\n"
     ]
    }
   ],
   "source": [
    "# 1. 파일 읽기 문제 - 가장 긴 줄 찾기\n",
    "# 주어진 텍스트 파일에서 가장 길이가 긴 줄을 찾아 출력하는 프로그램을 작성\n",
    "# 만약 여러 줄이 동일한 길이라면 그 중 가장 첫번째 줄을 출력\n",
    "# open()을 사용해서 파일을 열고, 각 줄을 readlines()로 읽어옵니다.\n",
    "\n",
    "\n",
    "def find_line(file_name):\n",
    "  with open(file_name, 'r') as file:\n",
    "    lines = file.readlines() # 파일의 모든 줄을 읽어 리스트로 반환\n",
    "    \n",
    "# 초기값 설정\n",
    "  longest_line = \"\"\n",
    "\n",
    "# 각 줄을 확인하면서 가장 긴 줄을 찾음\n",
    "  for line in lines:\n",
    "    if len(line) > len(longest_line): # 현재 읽어온 줄의 길이가 longest_line변수에 있는 줄의 길이보다 길면\n",
    "      longest_line = line # 가장 긴 줄을 longest_line 변수에 담아서 업데이트\n",
    "    \n",
    "  return longest_line.strip() # 결과 출력 시 줄바꿈 문자를 제거하고 반환\n",
    "\n",
    "file_name = 'quiz.txt'\n",
    "print(find_line(file_name))"
   ]
  },
  {
   "cell_type": "code",
   "execution_count": 3,
   "metadata": {},
   "outputs": [],
   "source": [
    "# 2. 파일 쓰기 - 숫자 파일 만들기\n",
    "# 1부터 100까지의 숫자를 텍스트 파일에 저장하세요.\n",
    "# 각 숫자는 한줄로 출력되며, 파일 이름은 numbers.txt입니다.\n",
    "# open()을 사용해서 파일을 열고, write()를 사용해서 각 숫자를 텍스트 파일에 씁니다.\n",
    "\n",
    "def write_numbers(file_name):\n",
    "  with open(file_name, 'w') as file: # 'w'모드로 파일 열기\n",
    "    for number in range(1, 101): # 1부터 100까지 숫자 반복\n",
    "      file.write(\"%d\\n\" %number) # 숫자 뒤에 \\n 추가해서 파일에 작성\n",
    "      \n",
    "file_name = 'numbers.txt'\n",
    "write_numbers(file_name)"
   ]
  },
  {
   "cell_type": "code",
   "execution_count": 2,
   "metadata": {},
   "outputs": [
    {
     "name": "stdout",
     "output_type": "stream",
     "text": [
      "단어를 찾을 수 없습니다.\n"
     ]
    }
   ],
   "source": [
    "# 3. 파일 읽기 및 처리 - 특정 단어가 포함된 줄 찾기\n",
    "# 주어진 텍스트 파일에서 특정 단어(사용자가 입력한 단어)를 포함하는 모든 줄을 찾아 출력하는 프로그램을 작성하세요.\n",
    "# open()을 사용해서 파일을 읽고, 각 줄에서 in 연산자를 사용해서 단어가 포함되어 있는지 확인할 수 있습니다.\n",
    "\n",
    "def find_lines(file_name, word):\n",
    "  with open(file_name, 'r') as file:\n",
    "    lines = file.readlines()\n",
    "  \n",
    "  found = False # 단어가 포함된 줄이 있는지 확인할 변수\n",
    "  \n",
    "  # 각 줄에서 단어가 포함되어 있는지 확인하고 출력\n",
    "  for line in lines:\n",
    "    if word in line:\n",
    "      print(line.strip()) # 단어가 포함된 줄을 출력\n",
    "      found = True # 단어가 포함된 줄을 찾았으므로 found = True\n",
    "      \n",
    "  if found == False:\n",
    "    print(\"단어를 찾을 수 없습니다.\") # 단어가 포함된 줄이 없을 때 메세지 출력\n",
    "  \n",
    "file_name = 'quiz.txt'\n",
    "word = input(\"찾고 싶은 단어를 입력하세요 : \")\n",
    "find_lines(file_name, word)"
   ]
  }
 ],
 "metadata": {
  "kernelspec": {
   "display_name": "Python 3",
   "language": "python",
   "name": "python3"
  },
  "language_info": {
   "codemirror_mode": {
    "name": "ipython",
    "version": 3
   },
   "file_extension": ".py",
   "mimetype": "text/x-python",
   "name": "python",
   "nbconvert_exporter": "python",
   "pygments_lexer": "ipython3",
   "version": "3.13.1"
  }
 },
 "nbformat": 4,
 "nbformat_minor": 2
}
