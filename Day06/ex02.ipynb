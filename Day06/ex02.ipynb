{
 "cells": [
  {
   "cell_type": "markdown",
   "metadata": {},
   "source": [
    "# 입력값과 리턴값에 따른 함수의 형태 (4가지)\n",
    "- 입력값이 있고 리턴값이 있는 함수\n",
    "- 입력값이 있고 리턴값이 없는 함수\n",
    "- 입력값이 없고 리턴값이 있는 함수\n",
    "- 입력값이 없고 리턴값이 없는 함수\n",
    "\n"
   ]
  },
  {
   "cell_type": "code",
   "execution_count": 1,
   "metadata": {},
   "outputs": [
    {
     "name": "stdout",
     "output_type": "stream",
     "text": [
      "7\n"
     ]
    }
   ],
   "source": [
    "# 입력값이 있고 리턴값이 있는 함수\n",
    "def add(a, b):\n",
    "  result = a + b\n",
    "  return result\n",
    "\n",
    "a = add(3, 4)\n",
    "print(a)"
   ]
  },
  {
   "cell_type": "code",
   "execution_count": 3,
   "metadata": {},
   "outputs": [
    {
     "name": "stdout",
     "output_type": "stream",
     "text": [
      "3 와 4 의 합은 7 입니다.\n"
     ]
    }
   ],
   "source": [
    "# 입력값이 있고 리턴값이 없는 함수\n",
    "def add(a, b):\n",
    "  print(a, \"와\", b, \"의 합은\", (a + b), \"입니다.\")\n",
    "  \n",
    "add(3, 4)"
   ]
  },
  {
   "cell_type": "code",
   "execution_count": 4,
   "metadata": {},
   "outputs": [
    {
     "name": "stdout",
     "output_type": "stream",
     "text": [
      "Hi\n"
     ]
    }
   ],
   "source": [
    "# 입력값이 없고 리턴값이 있는 함수\n",
    "def say(): \n",
    "  return 'Hi'\n",
    "\n",
    "a = say()\n",
    "print(a)"
   ]
  },
  {
   "cell_type": "code",
   "execution_count": 5,
   "metadata": {},
   "outputs": [
    {
     "name": "stdout",
     "output_type": "stream",
     "text": [
      "Hi\n"
     ]
    }
   ],
   "source": [
    "# 입력값이 없고 리턴값도 없는 함수\n",
    "def say(): \n",
    "  print('Hi')\n",
    "  \n",
    "say()"
   ]
  },
  {
   "cell_type": "code",
   "execution_count": 8,
   "metadata": {},
   "outputs": [
    {
     "name": "stdout",
     "output_type": "stream",
     "text": [
      "4\n",
      "-2\n"
     ]
    }
   ],
   "source": [
    "# 매개변수 지정하여 호출하기\n",
    "# 함수를 호출할때는 매개변수를 지정하여 호출도 가능\n",
    "\n",
    "def sub(a, b):\n",
    "  return a - b\n",
    "\n",
    "result = sub(a = 7, b = 3)\n",
    "print(result)\n",
    "\n",
    "result = sub(b = 5, a = 3)\n",
    "print(result)"
   ]
  },
  {
   "cell_type": "code",
   "execution_count": 11,
   "metadata": {},
   "outputs": [
    {
     "name": "stdout",
     "output_type": "stream",
     "text": [
      "나의 이름은 박응용 입니다.\n",
      "나이는 27 살 입니다.\n",
      "남자입니다.\n",
      "나의 이름은 박응용 입니다.\n",
      "나이는 30 살 입니다.\n",
      "남자입니다.\n",
      "나의 이름은 박응선 입니다.\n",
      "나이는 40 살 입니다.\n",
      "여자입니다.\n"
     ]
    }
   ],
   "source": [
    "# 매개변수에 초기값을 미리 설정하기\n",
    "def myself(name, age, man = True):\n",
    "  print(\"나의 이름은 %s 입니다.\" % name)\n",
    "  print(\"나이는 %d 살 입니다.\" % age)\n",
    "  if man:\n",
    "    print(\"남자입니다.\")\n",
    "  else:\n",
    "    print(\"여자입니다.\")\n",
    "\n",
    "myself(\"박응용\", 27)\n",
    "myself(\"박응용\", 30, True)\n",
    "myself(\"박응선\", 40, False)\n",
    "\n",
    "# 매개변수로 (name, age, man = True)는 되지만, (name, man = True,age) 는 불가\n",
    "# 초기화 하고싶은 매개변수는 항상 가장 뒤쪽에 놓아야 함!!!"
   ]
  },
  {
   "cell_type": "code",
   "execution_count": 3,
   "metadata": {},
   "outputs": [
    {
     "name": "stdout",
     "output_type": "stream",
     "text": [
      "6\n",
      "55\n"
     ]
    }
   ],
   "source": [
    "# 여러 개의 입력값을 받는 함수 만들기\n",
    "# def 함수이름(*매개변수): \n",
    "  # 수행할 문장\n",
    "  \n",
    "def add_many(*args):\n",
    "  result = 0\n",
    "  for i in args:\n",
    "    result = result + i # args에 입력받는 모든 값을 더함\n",
    "  return result\n",
    "\n",
    "result = add_many(1, 2, 3)\n",
    "print(result)\n",
    "\n",
    "result2 = add_many(1, 2, 3, 4, 5, 6, 7, 8, 9, 10)\n",
    "print(result2)"
   ]
  },
  {
   "cell_type": "code",
   "execution_count": 8,
   "metadata": {},
   "outputs": [
    {
     "name": "stdout",
     "output_type": "stream",
     "text": [
      "(7, 12)\n",
      "7\n",
      "12\n",
      "5\n"
     ]
    }
   ],
   "source": [
    "# 함수의 리턴값은 언제나 하나!\n",
    "# 하나의 함수에 return을 두개 쓰는건 불가\n",
    "# 함수는 return을 만나는 순간, 리턴값을 돌려준 다음 함수를 종료하고 빠져나가기 때문\n",
    "\n",
    "def add_mul(a, b):\n",
    "  return a + b, a * b # 두 값을 더한 결과와 곱한 결과를 반환\n",
    "\n",
    "result = add_mul(3, 4)\n",
    "print(result)\n",
    "# 함수의 리턴값 a + b와 a * b는 튜플값 하나인 (a + b, a * b)로 리턴됨\n",
    "\n",
    "result1, result2 = add_mul(3, 4) # 하나의 튜플 값을 2개의 값으로 분리하여 받는 방법\n",
    "print(result1)\n",
    "print(result2)\n",
    "\n",
    "# 하나의 함수에 return을 두개 쓰는 것을 불가!!!\n",
    "def add_mul2(a, b): \n",
    "  return a + b\n",
    "  return a * b\n",
    "\n",
    "result = add_mul2(2, 3)\n",
    "print(result)\n"
   ]
  },
  {
   "cell_type": "code",
   "execution_count": null,
   "metadata": {},
   "outputs": [],
   "source": [
    "# 함수 return의 두가지 쓰임새\n",
    "# 1. 값 반환\n",
    "# 2. 함수 종료"
   ]
  },
  {
   "cell_type": "code",
   "execution_count": 9,
   "metadata": {},
   "outputs": [
    {
     "name": "stdout",
     "output_type": "stream",
     "text": [
      "7\n"
     ]
    }
   ],
   "source": [
    "# 값 반환\n",
    "# return 키워드는 함수에서 호출된 곳으로 값을 돌려주는데 사용\n",
    "# 반환된 값은 변수에 저장하거나 다른 연산에 사용할 수 있음\n",
    "\n",
    "def add(a, b):\n",
    "  return a + b # 두 수를 더한 결과를 반환\n",
    "\n",
    "result = add(3, 4) # add 함수가 7을 반환하고, result에 저장함\n",
    "print(result)"
   ]
  },
  {
   "cell_type": "code",
   "execution_count": 11,
   "metadata": {},
   "outputs": [
    {
     "name": "stdout",
     "output_type": "stream",
     "text": [
      "Even\n",
      "Odd\n"
     ]
    }
   ],
   "source": [
    "# 함수 종료\n",
    "# return 키워드는 함수를 즉시 종료하는 역할도 함\n",
    "# return이 실행되면 함수의 나머지 부분은 건너뛰고 즉시 종료됨\n",
    "\n",
    "def check(number):\n",
    "  if number % 2 == 0:\n",
    "    return \"Even\" # 짝수의 경우 \"Even\"을 반환하고 함수가 종료\n",
    "  return \"Odd\" # \"Odd\" # 홀수일 경우(짝수가 아닌 경우) \"Odd\"를 반환하고 함수가 종료\n",
    "\n",
    "print(check(4))\n",
    "print(check(5))"
   ]
  },
  {
   "cell_type": "code",
   "execution_count": 18,
   "metadata": {},
   "outputs": [
    {
     "name": "stdout",
     "output_type": "stream",
     "text": [
      "30\n",
      "5\n",
      "200\n",
      "2\n"
     ]
    }
   ],
   "source": [
    "# 두 숫자의 합을 반환하는 함수\n",
    "# 두 숫자의 차를 반환하는 함수\n",
    "# 두 숫자의 곱을 반환하는 함수\n",
    "# 두 숫자의 몫을 반환하는 함수\n",
    "# 매개변수는 a, b / return 있음\n",
    "\n",
    "def add(a, b):\n",
    "  return a + b\n",
    "print(add(10, 20))\n",
    "\n",
    "def subtrack(a, b):\n",
    "  return a - b\n",
    "print(subtrack(10, 5))\n",
    "\n",
    "def mul(a, b):\n",
    "  return a * b\n",
    "print(mul(10, 20))\n",
    "\n",
    "def divide(a, b):\n",
    "  return a // b\n",
    "print(divide(10, 5))"
   ]
  },
  {
   "cell_type": "code",
   "execution_count": 20,
   "metadata": {},
   "outputs": [
    {
     "name": "stdout",
     "output_type": "stream",
     "text": [
      "10\n",
      "20\n"
     ]
    }
   ],
   "source": [
    "# 두 숫자 중 더 큰 값을 반환하는 함수\n",
    "def max(a, b):\n",
    "  return a if a > b else b\n",
    "print(max(10, 5))\n",
    "print(max(3, 20))"
   ]
  }
 ],
 "metadata": {
  "kernelspec": {
   "display_name": "Python 3",
   "language": "python",
   "name": "python3"
  },
  "language_info": {
   "codemirror_mode": {
    "name": "ipython",
    "version": 3
   },
   "file_extension": ".py",
   "mimetype": "text/x-python",
   "name": "python",
   "nbconvert_exporter": "python",
   "pygments_lexer": "ipython3",
   "version": "3.13.1"
  }
 },
 "nbformat": 4,
 "nbformat_minor": 2
}
