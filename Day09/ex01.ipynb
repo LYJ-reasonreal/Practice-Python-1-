{
 "cells": [
  {
   "cell_type": "markdown",
   "metadata": {},
   "source": [
    "# 객체란?\n",
    "- 현실 세계의 모든 대상을 프로그래밍 세계에서 표현하는 데 사용하는 개념\n",
    "- 현실 세계에서 눈에 보이는 것 뿐만 아니라, 실제로 존재하는 모든 것\n",
    "- 물리적 대상(예: 자동차, 건물, 컴퓨터) 뿐만 아니라 눈에 보이지 않는 개념이나 정보(예: 시험, 이벤트, 계좌, 주문)도 객체로 표현 가능\n",
    "- 현실 세계의 사물을 추상화 하여 프로그래밍 코드로 표현하는데 사용하는 중요한 개념\n",
    "\n",
    "# 객체의 주요 특징\n",
    "- 객체는 속성(상태)와 기능(행동, 동작)을 가짐\n",
    "- 속성(상태) : 특정 객체가 가진 특징. 예를 들어 학생이라면 이름, 나이, 학과, 성별 등이 속성에 해당\n",
    "- 기능(행동, 동작) : 객체가 수행하는 행동이나 기능. 학생의 경우 공부하기, 책 읽기, 운동하기 등이 해당\n",
    "- 단순히 데이터를 저장하는 변수와는 달리, 데이터와 행동을 함께 포함하여 현실 세계를 더욱 정확하게 반영\n",
    "- 파이썬에서 객체의 속성은 변수로, 기능(행동, 동작)은 함수로 나타냄\n",
    "\n",
    "# 객체지향 프로그래밍이란?\n",
    "- 소프트웨어 개발 시 부품에 해당하는 객체를 먼저 만들고, 이 객체를 하나씩 조립해서 완성된 프로그램을 만드는 기법\n",
    "- 객체를 기반으로 설계하므로 코드의 재사용성과 유지보수성을 높임\n",
    "\n",
    "# 클래스란?\n",
    "- 프로그래밍 세상에서 객체를 구현하는 방법은 클래스를 활용하는 것\n",
    "- 클래스는 객체를 만드는 틀 또는 설계도\n",
    "- 어떤 객체를 만들고자 하는지(어떤 특징과 기능을 가져야 하는지) 명확하게 정의하는 역할\n",
    "- 객체의 설계도 역할을 함으로써 객체를 일관되고 효율적으로 만들 수 있도록 함\n",
    "\n",
    "# 클래스 정의하기\n",
    "class 클래스명:\n",
    "  클래스 변수\n",
    "  생성자\n",
    "  메서드(함수가 클래스 안에 들어가면 메서드라고 부릅니다!)\n",
    "  \n",
    "(모든 클래스가 이 세가지 요소를 모두 가지는 것은 아님! 상황에 따라 필요한 요소만 선택하여 정의)"
   ]
  },
  {
   "cell_type": "code",
   "execution_count": 1,
   "metadata": {},
   "outputs": [
    {
     "name": "stdout",
     "output_type": "stream",
     "text": [
      "안녕하세요\n"
     ]
    }
   ],
   "source": [
    "# Person 클래스 정의하기\n",
    "# 사람 객체를 생성할 수 있도록 설계\n",
    "# 클래스 이름은 해당 클래스가 생성할 객체의 종류를 나타내는 이름으로 작성\n",
    "\n",
    "class Person:\n",
    "  def introduce(self):\n",
    "    print(\"안녕하세요\")\n",
    "    \n",
    "minsu = Person() # Person 객체 생성\n",
    "minsu.introduce() # Person 객체의 메서드 호출"
   ]
  },
  {
   "cell_type": "markdown",
   "metadata": {},
   "source": [
    "# 객체를 생성하는 기본 형태\n",
    "- 객체를 담을 변수명 = 클래스명()\n",
    "\n",
    "# 객체의 메서드를 사용하는 방법\n",
    "- 객체를 담은 변수명.메서드명()"
   ]
  },
  {
   "cell_type": "code",
   "execution_count": 2,
   "metadata": {},
   "outputs": [
    {
     "name": "stdout",
     "output_type": "stream",
     "text": [
      "안녕하세요 저는 민수 입니다.\n"
     ]
    }
   ],
   "source": [
    "# 메서드에 매개변수 추가\n",
    "class Person: \n",
    "  def introduce(self, name): # 매개변수를 추가한 메서드\n",
    "    print(\"안녕하세요 저는\", name, \"입니다.\")\n",
    "    \n",
    "minsu = Person() # Person 객체 생성\n",
    "minsu.introduce(\"민수\")  "
   ]
  },
  {
   "cell_type": "code",
   "execution_count": 4,
   "metadata": {},
   "outputs": [
    {
     "name": "stdout",
     "output_type": "stream",
     "text": [
      "저의 울음소리는 야옹 입니다.\n",
      "저의 울음소리는 멍멍 입니다.\n",
      "저의 울음소리는 어흥 입니다.\n"
     ]
    }
   ],
   "source": [
    "class Animal: # Animal 클래스\n",
    "  def cry(self, sound):\n",
    "    print(\"저의 울음소리는\", sound, \"입니다.\")\n",
    "    \n",
    "cat = Animal()\n",
    "cat.cry(\"야옹\")\n",
    "\n",
    "dog = Animal()\n",
    "dog.cry(\"멍멍\")\n",
    "\n",
    "lion = Animal()\n",
    "lion.cry(\"어흥\")"
   ]
  },
  {
   "cell_type": "markdown",
   "metadata": {},
   "source": [
    "# self\n",
    "- self 변수는 객체 자기 자신을 가리키는 특별한 변수\n",
    "- 메서드가 현재 다루고 있는 객체 자신을 가리키며, 이를 통해 객체의 속성이나 메서드에 접근하거나 값을 수정할 수 있음\n",
    "- 클래스의 메서드를 정의할 때, 반드시!! 첫번째 매개변수로 self를 포함해야 함\n",
    "- self를 생략하면 메서드가 호출된 객체에 대한 참조를 받지 못하므로 객체의 속성이나 다른 메서드에 접근할 수 없게 됨\n",
    "- 또한, 호출 시 전달되는 인자의 갯수가 맞지 않아서 오류가 발생할 수 있음"
   ]
  },
  {
   "cell_type": "code",
   "execution_count": 7,
   "metadata": {},
   "outputs": [
    {
     "name": "stdout",
     "output_type": "stream",
     "text": [
      "안녕하세요 저는 민수 입니다.\n"
     ]
    }
   ],
   "source": [
    "# minsu.name 속성 접근\n",
    "class Person:\n",
    "  def introduce(self, name):\n",
    "    print(\"안녕하세요 저는\", name, \"입니다.\")\n",
    "\n",
    "minsu = Person()\n",
    "minsu.introduce(\"민수\")\n",
    "print(minsu.name) #name 매개변수는 메서드 내에서만 사용되고 객체 자체에는 저장되지 않으므로, 존재하지 않는 속성에 접근하려고 해서 오류 발생"
   ]
  },
  {
   "cell_type": "code",
   "execution_count": 10,
   "metadata": {},
   "outputs": [
    {
     "name": "stdout",
     "output_type": "stream",
     "text": [
      "안녕하세요 저는 민수 입니다.\n",
      "민수\n"
     ]
    }
   ],
   "source": [
    "# minsu.name 속성 접근\n",
    "class Person:\n",
    "  def introduce(self, name): # 클래스가 객체로 만들어지면 자동으로 self라는 매개변수에 그 객체가 저장\n",
    "    self.name = name # self 변수를 사용하여 name 속성을 생성된 객체에 직접 저장\n",
    "    # introduce() 메서드 호출 시 전달받은 name값을 대입\n",
    "    print(\"안녕하세요 저는\", name, \"입니다.\")\n",
    "\n",
    "minsu = Person()\n",
    "minsu.introduce(\"민수\")\n",
    "print(minsu.name)"
   ]
  },
  {
   "cell_type": "code",
   "execution_count": 3,
   "metadata": {},
   "outputs": [
    {
     "ename": "TypeError",
     "evalue": "Person.introduce() takes 1 positional argument but 2 were given",
     "output_type": "error",
     "traceback": [
      "\u001b[1;31m---------------------------------------------------------------------------\u001b[0m",
      "\u001b[1;31mTypeError\u001b[0m                                 Traceback (most recent call last)",
      "Cell \u001b[1;32mIn[3], line 7\u001b[0m\n\u001b[0;32m      4\u001b[0m     \u001b[38;5;28mprint\u001b[39m(\u001b[38;5;124m\"\u001b[39m\u001b[38;5;124m안녕하세요 저는\u001b[39m\u001b[38;5;124m\"\u001b[39m, name, \u001b[38;5;124m\"\u001b[39m\u001b[38;5;124m입니다.\u001b[39m\u001b[38;5;124m\"\u001b[39m)\n\u001b[0;32m      6\u001b[0m minsu \u001b[38;5;241m=\u001b[39m Person()\n\u001b[1;32m----> 7\u001b[0m \u001b[43mminsu\u001b[49m\u001b[38;5;241;43m.\u001b[39;49m\u001b[43mintroduce\u001b[49m\u001b[43m(\u001b[49m\u001b[38;5;124;43m\"\u001b[39;49m\u001b[38;5;124;43m민수\u001b[39;49m\u001b[38;5;124;43m\"\u001b[39;49m\u001b[43m)\u001b[49m\n\u001b[0;32m      9\u001b[0m \u001b[38;5;66;03m# 파이썬에서 객체를 통해 메서드를 호출할 때 호출된 객체 자신이 자동으로 메서드의 첫번째 매개변수로 전달되기 때문\u001b[39;00m\n",
      "\u001b[1;31mTypeError\u001b[0m: Person.introduce() takes 1 positional argument but 2 were given"
     ]
    }
   ],
   "source": [
    "# self를 적지 않는 경우\n",
    "class Person:\n",
    "  def introduce(name): \n",
    "    print(\"안녕하세요 저는\", name, \"입니다.\")\n",
    "\n",
    "minsu = Person()\n",
    "minsu.introduce(\"민수\")\n",
    "\n",
    "# 파이썬에서 객체를 통해 메서드를 호출할 때 호출된 객체 자신이 자동으로 메서드의 첫번째 매개변수로 전달되기 때문"
   ]
  },
  {
   "cell_type": "markdown",
   "metadata": {},
   "source": [
    "# 왜 self가 필요한가?\n",
    "- self는 메서드가 현재 객체에 접근할 수 있게 해주는 역할을 함\n",
    "- 클래스 내부의 메서드는 객체의 속성이나 다른 메서드를 사용할 수 있어야 하기 때문에 self를 통해 해당 객체에 접근함\n",
    "- 각 객체가 고유한 데이터나 상태를 가질 수 있도록 돕는 역할을 self가 함"
   ]
  }
 ],
 "metadata": {
  "kernelspec": {
   "display_name": "Python 3",
   "language": "python",
   "name": "python3"
  },
  "language_info": {
   "codemirror_mode": {
    "name": "ipython",
    "version": 3
   },
   "file_extension": ".py",
   "mimetype": "text/x-python",
   "name": "python",
   "nbconvert_exporter": "python",
   "pygments_lexer": "ipython3",
   "version": "3.13.1"
  }
 },
 "nbformat": 4,
 "nbformat_minor": 2
}
