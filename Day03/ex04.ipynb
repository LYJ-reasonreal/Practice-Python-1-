{
 "cells": [
  {
   "cell_type": "markdown",
   "metadata": {},
   "source": [
    "# break와 continue\n",
    "- 조건식이 True이더라도 언제든지 원할 때 강제로 while문을 빠져나갈 수 있는 키워드\n",
    "\n",
    "# break문\n",
    "- while문을 강제로 종료\n",
    "- while문 내에서 break를 만나면 즉시 while문을 벗어남\n",
    "\n",
    "# continue문\n",
    "- while문의 반복을 건너뛰고 맨 처음으로 돌아감\n",
    "- while문 내에서 continue문을 만나면, 현재 반복을 건너뛰고 다음 반복으로 이동"
   ]
  },
  {
   "cell_type": "code",
   "execution_count": 1,
   "metadata": {},
   "outputs": [
    {
     "name": "stdout",
     "output_type": "stream",
     "text": [
      "0\n",
      "1\n",
      "2\n",
      "3\n",
      "4\n"
     ]
    }
   ],
   "source": [
    "# break문 - while문을 종료하고 바로 빠져나가기\n",
    "count = 0\n",
    "\n",
    "while count < 10:\n",
    "  print(count)\n",
    "  count = count +1\n",
    "  \n",
    "  if count == 5:\n",
    "    break # 조건문이 만족되면 break 실행. break 문이 실행되면 while문의 코드블록을 종료하고 바로 빠져나감"
   ]
  },
  {
   "cell_type": "code",
   "execution_count": null,
   "metadata": {},
   "outputs": [],
   "source": [
    "# continue문 - 특정 회차만 건너뛰기\n",
    "# 3의 배수만 건너뛰고 출력하기\n",
    "\n",
    "num = 0\n",
    "\n",
    "while num < 20:\n",
    "    num = num + 1\n",
    "    \n",
    "    if num % 3 == 0:\n",
    "      continue # 3의 배수일 경우 출력하지 않고 건너뛰기\n",
    "    \n",
    "    print(num) # 3의 배수가 아닐 경우만 출력"
   ]
  },
  {
   "cell_type": "code",
   "execution_count": 3,
   "metadata": {},
   "outputs": [
    {
     "name": "stdout",
     "output_type": "stream",
     "text": [
      "1\n",
      "3\n",
      "5\n",
      "7\n",
      "9\n"
     ]
    }
   ],
   "source": [
    "# 홀수만 출력하기\n",
    "\n",
    "a = 0\n",
    "\n",
    "while a < 10:\n",
    "  a = a + 1\n",
    "  \n",
    "  if a % 2 == 0:\n",
    "    continue # 짝수일 경우 건너뛰고 다음 반복으로 넘어감\n",
    "  print(a) # 홀수일 경우만 출력"
   ]
  },
  {
   "cell_type": "code",
   "execution_count": 4,
   "metadata": {},
   "outputs": [
    {
     "name": "stdout",
     "output_type": "stream",
     "text": [
      "1 2 짝 4 5 짝 7 8 짝 10 11 짝 13 14 짝 16 17 짝 19 20 "
     ]
    }
   ],
   "source": [
    "# 369 게임 만들기\n",
    "num = 0\n",
    "\n",
    "while num < 20:\n",
    "  num = num + 1\n",
    "  \n",
    "  if num % 3 == 0: # num을 3으로 나눈 나머지가 0인 경우(3의 배수인 경우)\n",
    "    print(\"짝\", end = ' ') # \\n (줄바꿈) 안하고 옆으로 출력하겠는데, 공백도 추가하겠다는 의미로 end = ' '.\n",
    "    continue # 반복문의 처음으로 돌아가기\n",
    "  \n",
    "  print(num, end = ' ')"
   ]
  }
 ],
 "metadata": {
  "kernelspec": {
   "display_name": "Python 3",
   "language": "python",
   "name": "python3"
  },
  "language_info": {
   "codemirror_mode": {
    "name": "ipython",
    "version": 3
   },
   "file_extension": ".py",
   "mimetype": "text/x-python",
   "name": "python",
   "nbconvert_exporter": "python",
   "pygments_lexer": "ipython3",
   "version": "3.13.1"
  }
 },
 "nbformat": 4,
 "nbformat_minor": 2
}
