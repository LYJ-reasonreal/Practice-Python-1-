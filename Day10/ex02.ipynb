{
 "cells": [
  {
   "cell_type": "markdown",
   "metadata": {},
   "source": [
    "# 클래스 변수란?\n",
    "- 클래스 변수는 파이썬에서 클래스에 속한 모든 객체들이 공유하는 변수\n",
    "- 즉 같은 클래스로 생성된 모든 객체가 공유할 수 있는 변수\n",
    "- 클래스 변수의 값을 변경하면 해당 클래스에 속한 모든 객체의 데이터가 자동으로 변경\n",
    "\n",
    "# 클래스 변수 기본 형식\n",
    "class 클래스명:\n",
    "  클래스 변수명 = 값"
   ]
  },
  {
   "cell_type": "code",
   "execution_count": 4,
   "metadata": {},
   "outputs": [
    {
     "name": "stdout",
     "output_type": "stream",
     "text": [
      "안녕하세요, 제 이름은 Kelly 입니다.\n",
      "저는 1 반 입니다.\n",
      "1교시 수업은 Art 입니다.\n",
      "\n",
      "안녕하세요, 제 이름은 jason 입니다.\n",
      "저는 1 반 입니다.\n",
      "1교시 수업은 Art 입니다.\n",
      "\n",
      "안녕하세요, 제 이름은 tom 입니다.\n",
      "저는 1 반 입니다.\n",
      "1교시 수업은 Art 입니다.\n",
      "\n",
      "저는 1 반 Kelly 입니다.\n",
      "1교시 수업은 변경되어 Korean 입니다.\n",
      "저는 1 반 jason 입니다.\n",
      "1교시 수업은 변경되어 Korean 입니다.\n",
      "저는 1 반 tom 입니다.\n",
      "1교시 수업은 그대로 Art 입니다.\n",
      "\n"
     ]
    }
   ],
   "source": [
    "# 클래스 변수를 사용하지 않고 객체 변수를 사용한 예시\n",
    "# 데이터를 수정할 때 모든 객체의 데이터를 일일이 수정해야 하는 번거로움이 발생\n",
    "\n",
    "class Student:\n",
    "  def __init__(self, name, ban, subject):\n",
    "    self.name = name\n",
    "    self.ban = ban\n",
    "    self.subject = subject\n",
    "    \n",
    "  def introduce(self):\n",
    "    print(\"안녕하세요, 제 이름은\", self.name, \"입니다.\")\n",
    "    print(\"저는\", self.ban, \"반 입니다.\")\n",
    "    print(\"1교시 수업은\", self.subject, \"입니다.\")\n",
    "    print()\n",
    "    \n",
    "  def subject_info(self):\n",
    "    print(\"저는\", self.ban, \"반\", self.name, \"입니다.\")\n",
    "    if(self.subject == \"Art\"):\n",
    "      print(\"1교시 수업은 그대로\", self.subject, \"입니다.\")\n",
    "      print()\n",
    "    else:\n",
    "      print(\"1교시 수업은 변경되어\", self.subject, \"입니다.\")\n",
    "      \n",
    "# 같은 1반 학생 3명 객체 생성\n",
    "kelly = Student(\"Kelly\", 1, \"Art\")\n",
    "jason = Student(\"jason\", 1, \"Art\")\n",
    "tom = Student(\"tom\", 1, \"Art\")\n",
    "\n",
    "# 자기 소개와 1교시 과목 안내\n",
    "kelly.introduce()\n",
    "jason.introduce()\n",
    "tom.introduce()\n",
    "\n",
    "# 1교시 과목 변경\n",
    "kelly.subject = \"Korean\"\n",
    "jason.subject = \"Korean\"\n",
    "\n",
    "# 세 학생의 1교시 과목 안내\n",
    "kelly.subject_info()\n",
    "jason.subject_info()\n",
    "tom.subject_info()"
   ]
  },
  # 클래스 변수 추가
class Student:
  subject = "Art" # 클래스 변수 선언
  
  def __init__(self, name, ban):
    self.name = name
    self.ban = ban
    
  def introduce(self):
    print("안녕하세요, 제 이름은", self.name, "입니다.")
    print("저는", self.ban, "반 입니다.")
    print("1교시 수업은", self.subject, "입니다.")
    
  def subject_info(self):
    print("저는", self.ban, "반", self.name, "입니다.")
    if(self.subject == "Art"):
      print("1교시 수업은 그대로", self.subject, "입니다.")
      print()
    else:
      print("1교시 수업은 변경되어", self.subject, "입니다.")
      print()
      
# 같은 1반 학생 3명 객체 생성
kelly = Student("Kelly", 1)
jason = Student("jason", 1)
tom = Student("tom", 1)

# 자기 소개와 1교시 과목 안내
kelly.introduce()
jason.introduce()
tom.introduce()  

# 모든 객체의 1교시 과목 변경
Student.subject = "Korean" # 클래스 변수의 값 변경

# 세 학생의 1교시 과목 안내
kelly.subject_info()
jason.subject_info()
tom.subject_info()

# 클래스 변수를 사용할때는 클래스명.변수명으로 접근
# 클래스 변수를 사용하여 모든 객체의 데이터를 손쉽게 변경, 코드의 간결성도 크게 향상
# 여러 객체가 공통적으로 사용하는 데이터를 관리하는데 매우 유용

안녕하세요, 제 이름은 Kelly 입니다.
저는 1 반 입니다.
1교시 수업은 Art 입니다.
안녕하세요, 제 이름은 jason 입니다.
저는 1 반 입니다.
1교시 수업은 Art 입니다.
안녕하세요, 제 이름은 tom 입니다.
저는 1 반 입니다.
1교시 수업은 Art 입니다.
저는 1 반 Kelly 입니다.
1교시 수업은 변경되어 Korean 입니다.

저는 1 반 jason 입니다.
1교시 수업은 변경되어 Korean 입니다.

저는 1 반 tom 입니다.
1교시 수업은 변경되어 Korean 입니다.

# 클래스 변수명과 객체 변수명이 같을때

class Family:
  lastname = "김" # 클래스 변수 선언
  
print(Family.lastname) # 클래스 변수는 클래스명.변수명으로 접근할 수 있음
print()

# 또는 다음과 같이 Family 클래스로 만든 객체를 이용해서도 클래스변수를 사용할 수 있음

a = Family()
b = Family()

print(a.lastname)
print(b.lastname)
print()

# 만약 Family 클래스의 lastname을 "박"으로 변경하면????
Family.lastname = "박"

print(a.lastname)
print(b.lastname)
print(Family.lastname)
# 클래스 변수의 값을 변경했더니 클래스로 만든 객체의 lastname값도 모두 변경
print()
# 클래스 변수는 객체 변수와 달리 클래스로 만든 모든 객체에 공유된다는 특징을 가짐

# 클래스 변수와 동일한 이름의 객체 변수를 생성하면?
a.lastname = "최"
print(a.lastname)
print(b.lastname)
print(Family.lastname) # Family 클래스의 lastname값은 변하지 않았음

# 이렇게 하는 Family 클래스의 lastname이 바뀌는 것이 아니라 a 객체에 lastname이라는 객체 변수가 생성된 것
# 즉, 객체변수는 클래스 변수와 동일한 이름으로 생성하는 것이 가능
# 하지만, a.lastname처럼 클래스 변수와 동일한 이름의 객체변수를 생성하더라도 Family 클래스의 lastname과는 상관이 없음

김

김
김

박
박
박

최
박
박

