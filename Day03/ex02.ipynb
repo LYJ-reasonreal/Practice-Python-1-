{
 "cells": [
  {
   "cell_type": "markdown",
   "metadata": {},
   "source": [
    "# 조건부 표현식\n",
    "- 조건식이 하나인 경우에 조건문을 간단히 표현 가능\n",
    "- 가독성에 유리하고 한줄로 작성할 수 있어서 활용성이 좋음\n",
    "\n",
    "# 조건부 표현식의 기본 형식\n",
    "변수 = 조건문이 참인 경우 값 if 조건문 else 조건문이 거짓인 경우의 값"
   ]
  },
  {
   "cell_type": "code",
   "execution_count": 1,
   "metadata": {},
   "outputs": [
    {
     "name": "stdout",
     "output_type": "stream",
     "text": [
      "성공\n"
     ]
    }
   ],
   "source": [
    "score = 75\n",
    "\n",
    "if score >= 60:\n",
    "  print(\"성공\")\n",
    "else:\n",
    "  print(\"실패\") "
   ]
  },
  {
   "cell_type": "code",
   "execution_count": 2,
   "metadata": {},
   "outputs": [
    {
     "name": "stdout",
     "output_type": "stream",
     "text": [
      "성공\n"
     ]
    }
   ],
   "source": [
    "score = 70\n",
    "\n",
    "message = \"성공\" if score >= 60 else \"실패\"\n",
    "print(message)"
   ]
  }
 ],
 "metadata": {
  "kernelspec": {
   "display_name": "Python 3",
   "language": "python",
   "name": "python3"
  },
  "language_info": {
   "codemirror_mode": {
    "name": "ipython",
    "version": 3
   },
   "file_extension": ".py",
   "mimetype": "text/x-python",
   "name": "python",
   "nbconvert_exporter": "python",
   "pygments_lexer": "ipython3",
   "version": "3.13.1"
  }
 },
 "nbformat": 4,
 "nbformat_minor": 2
}
