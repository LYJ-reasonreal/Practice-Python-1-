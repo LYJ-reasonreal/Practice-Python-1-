{
 "cells": [
  {
   "cell_type": "markdown",
   "metadata": {},
   "source": [
    "# 연산자\n",
    "- 수학적 계산, 데이터 처리 등 다양한 작업을 수행하는데 사용되는 기호"
   ]
  },
  {
   "cell_type": "code",
   "execution_count": null,
   "metadata": {},
   "outputs": [],
   "source": [
    "# 산술 연산자\n",
    "# 기본적인 수학적 계산에 활용\n",
    "\n",
    "a = 10\n",
    "b = 3\n",
    "\n",
    "print(a + b) # 덧셈\n",
    "print(a - b) # 뺄셈\n",
    "print(a * b) # 곱셈\n",
    "print(a / b) # 나눗셈 (결과는 실수)\n",
    "print(a // b) # 몫\n",
    "print(a % b) # 나머지\n",
    "print(a ** b) # 거듭제곱\n"
   ]
  },
  {
   "cell_type": "code",
   "execution_count": null,
   "metadata": {},
   "outputs": [],
   "source": [
    "# 비교 연산자\n",
    "# 두 값을 비교하고 그 결과로 True 또는 False를 반환\n",
    "# 관계 연산자 라고도 부름(두 값의 관계를 판단하는 역할)\n",
    "  x = 5\n",
    "  y = 10\n",
    "  \n",
    "  print(x == y) # 같음\n",
    "  print(x != y) # 다름\n",
    "  print(x > y) # 크다\n",
    "  print(x < y) # 작다\n",
    "  print(x >= y) # 크거나 같다\n",
    "  print(x <= y) # 작거나 같다"
   ]
  },
  {
   "cell_type": "code",
   "execution_count": 3,
   "metadata": {},
   "outputs": [
    {
     "name": "stdout",
     "output_type": "stream",
     "text": [
      "True\n",
      "False\n",
      "False\n",
      "True\n"
     ]
    }
   ],
   "source": [
    "a = 70\n",
    "b = 60\n",
    "\n",
    "num1 = a > b\n",
    "num2 = a < b\n",
    "num3 = a == b\n",
    "num4 = a != b\n",
    "\n",
    "print(num1)\n",
    "print(num2)\n",
    "print(num3)\n",
    "print(num4)"
   ]
  },
  {
   "cell_type": "code",
   "execution_count": null,
   "metadata": {},
   "outputs": [],
   "source": [
    "# 논리 연산자\n",
    "# 논리적인 연사을 수행해서 참인지 거짓인지 판단\n",
    "# and = 두 조건이 모두 True일 때 True\n",
    "# or = 두 조건 중 하나라도 True이면 True\n",
    "# not = 두 조건을 반적(True → False, False → True)\n"
   ]
  },
  {
   "cell_type": "code",
   "execution_count": 4,
   "metadata": {},
   "outputs": [
    {
     "name": "stdout",
     "output_type": "stream",
     "text": [
      "False\n",
      "True\n",
      "False\n"
     ]
    }
   ],
   "source": [
    "a = True\n",
    "b = False\n",
    "\n",
    "print(a and b) # 둘 다 참일 때만 True\n",
    "print(a or b) # 둘 중 하나라도 참이면 True\n",
    "print(not a) # True → False"
   ]
  },
  {
   "cell_type": "code",
   "execution_count": 5,
   "metadata": {},
   "outputs": [
    {
     "name": "stdout",
     "output_type": "stream",
     "text": [
      "1\n"
     ]
    }
   ],
   "source": [
    "# True와 False를 0과 1로 대체해서 사용 가능\n",
    "snowing = 1 # True\n",
    "cold = 0 # False\n",
    "\n",
    "winter = snowing | cold # or를 |로 대체해서 사용 가능 / and = &\n",
    "print(winter)"
   ]
  },
  {
   "cell_type": "code",
   "execution_count": 8,
   "metadata": {},
   "outputs": [
    {
     "name": "stdout",
     "output_type": "stream",
     "text": [
      "False\n",
      "True\n",
      "False\n"
     ]
    }
   ],
   "source": [
    "# 변수의 논리값을 뒤집는 not\n",
    "# 변수 자체의 값은 변하지 않음!!!\n",
    "is_false = False\n",
    "print(is_false)\n",
    "print(not is_false)\n",
    "print(is_false)"
   ]
  },
  {
   "cell_type": "code",
   "execution_count": null,
   "metadata": {},
   "outputs": [],
   "source": [
    "# 대입연산자\n",
    "# 변수에 값을 할당할 때 사용\n",
    "# 복합대입연산자 존재\n",
    "num = 100\n"
   ]
  },
  {
   "cell_type": "code",
   "execution_count": 11,
   "metadata": {},
   "outputs": [
    {
     "name": "stdout",
     "output_type": "stream",
     "text": [
      "10\n",
      "15\n",
      "12\n",
      "24\n",
      "6.0\n"
     ]
    }
   ],
   "source": [
    "x = 10\n",
    "print(x) # 초기값: 10\n",
    "\n",
    "x += 5 # x = x + 5\n",
    "print(x)\n",
    "\n",
    "x -= 3 # x = x - 3\n",
    "print(x)\n",
    "\n",
    "x *= 2 # x = x * 2\n",
    "print(x)\n",
    "\n",
    "x /= 4 # x = x / 4\n",
    "print(x)"
   ]
  },
  {
   "cell_type": "code",
   "execution_count": 12,
   "metadata": {},
   "outputs": [
    {
     "name": "stdout",
     "output_type": "stream",
     "text": [
      "10\n",
      "3\n",
      "0\n"
     ]
    }
   ],
   "source": [
    "num1 = 7\n",
    "num2 = 3\n",
    "num3 = num1 + num2 # 10\n",
    "\n",
    "num1 += num2 # num1 = num1 + num2\n",
    "num3 -= num1 # num3 = num3 - num1\n",
    "\n",
    "print(num1)\n",
    "print(num2)\n",
    "print(num3)"
   ]
  },
  {
   "cell_type": "code",
   "execution_count": null,
   "metadata": {},
   "outputs": [],
   "source": [
    "# 멤버십 연산자\n",
    "# 특정 값이 시퀀스(데이터의 집합)에 포함되어 있는지 검사\n",
    "\n",
    "fruit = [\"apple\", \"babana\", \"cherry\"]\n",
    "print(\"apple\" in fruit)\n",
    "print(\"grape\" not in fruit)"
   ]
  },
  {
   "cell_type": "code",
   "execution_count": null,
   "metadata": {},
   "outputs": [],
   "source": [
    "# 조건 연산자\n",
    "# 조건에 따라 결과를 선택할 수 있는 연산자\n",
    "# 조건의 결과가 참인 경우와 거짓인 경우에 따라 다른 결과값을 선택\n",
    "\n",
    "x = 21\n",
    "y = 20\n",
    "\n",
    "max = x if x > y else y # max에 값x를 할당하라(만약 x가 y보다 크다면), 그렇지 않다면 max에 y를 할당하라"
   ]
  },
  {
   "cell_type": "code",
   "execution_count": 14,
   "metadata": {},
   "outputs": [
    {
     "name": "stdout",
     "output_type": "stream",
     "text": [
      "700\n",
      "60400\n",
      "1100\n",
      "60900\n"
     ]
    }
   ],
   "source": [
    "# 연산자의 우선순위\n",
    "num1 = 200\n",
    "num2 = 300\n",
    "\n",
    "result1 = num1 * 2 + num2\n",
    "result2 = num1 * (2 + num2)\n",
    "result3 = num1 + 3 * num2\n",
    "result4 = (num1 + 3) * num2\n",
    "\n",
    "print(result1)\n",
    "print(result2)\n",
    "print(result3)\n",
    "print(result4)"
   ]
  },
  {
   "cell_type": "code",
   "execution_count": 19,
   "metadata": {},
   "outputs": [
    {
     "name": "stdout",
     "output_type": "stream",
     "text": [
      "합격\n"
     ]
    }
   ],
   "source": [
    "# 조건 연산자를 활용해서 국어, 영어, 수학 점수를 각각 입력받아서 평균을 구하고 평균이 80점 이상이면 합격 아니면 불합격을 출력하세요\n",
    "\n",
    "korean = int(input(\"국어 점수를 입력하세요 : \"))\n",
    "english = int(input(\"영어 점수를 입력하세요 : \"))\n",
    "math = int(input(\"수학 점수를 입력하세요: \"))\n",
    "\n",
    "# 평균 계산\n",
    "average = (korean + english + math) / 3\n",
    "\n",
    "# 조건 연산자를 사용해서 결과를 판단\n",
    "result = \"합격\" if average >= 80 else \"불합격\"\n",
    "\n",
    "# 결과 출력\n",
    "print(result)"
   ]
  }
 ],
 "metadata": {
  "kernelspec": {
   "display_name": "Python 3",
   "language": "python",
   "name": "python3"
  },
  "language_info": {
   "codemirror_mode": {
    "name": "ipython",
    "version": 3
   },
   "file_extension": ".py",
   "mimetype": "text/x-python",
   "name": "python",
   "nbconvert_exporter": "python",
   "pygments_lexer": "ipython3",
   "version": "3.13.1"
  }
 },
 "nbformat": 4,
 "nbformat_minor": 2
}
