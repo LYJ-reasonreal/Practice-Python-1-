{
 "cells": [
  {
   "cell_type": "markdown",
   "metadata": {},
   "source": [
    "# 내장함수\n",
    "- 내장 함수는 파이썬에서 기본으로 제공하는 함수들\n",
    "- 별도의 모듈을 설치하거나 추가적인 설치 없이 바로 사용이 가능\n",
    "- 프로그래밍에서 자주 사용하는 기능을 간단하게 구현할 수 있도록 지원\n",
    "- 자주 사용하는 기능들은 익혀두는 것이 필요\n",
    "\n",
    "# 주요 내장 함수\n",
    "- 입출력 관련\n",
    "- 데이터 타입 변환\n",
    "- 수학 연산\n",
    "- 시퀀스 관련\n",
    "- 논리 및 조건 검사\n",
    "- 정보나 타입 확인"
   ]
  },
  {
   "cell_type": "code",
   "execution_count": 2,
   "metadata": {},
   "outputs": [
    {
     "data": {
      "text/plain": [
       "1.2"
      ]
     },
     "execution_count": 2,
     "metadata": {},
     "output_type": "execute_result"
    }
   ],
   "source": [
    "# abs() - 절대값 리턴\n",
    "abs(-3)\n",
    "abs(-1.2)"
   ]
  },
  {
   "cell_type": "code",
   "execution_count": 3,
   "metadata": {},
   "outputs": [
    {
     "data": {
      "text/plain": [
       "True"
      ]
     },
     "execution_count": 3,
     "metadata": {},
     "output_type": "execute_result"
    }
   ],
   "source": [
    "# all()\n",
    "# 반복 가능한 데이터 x를 입력값으로 받으며 이 x의 요소가 모두 참이면 True, 거짓이 하나라도 있으면 False를 리턴\n",
    "all([1, 2, 3])"
   ]
  },
  {
   "cell_type": "code",
   "execution_count": 4,
   "metadata": {},
   "outputs": [
    {
     "data": {
      "text/plain": [
       "False"
      ]
     },
     "execution_count": 4,
     "metadata": {},
     "output_type": "execute_result"
    }
   ],
   "source": [
    "all([1, 2, 3, 0])"
   ]
  },
  {
   "cell_type": "code",
   "execution_count": 5,
   "metadata": {},
   "outputs": [
    {
     "data": {
      "text/plain": [
       "True"
      ]
     },
     "execution_count": 5,
     "metadata": {},
     "output_type": "execute_result"
    }
   ],
   "source": [
    "all([]) # all의 입력 인수가 빈 값인 경우에는 True를 리턴"
   ]
  },
  {
   "cell_type": "code",
   "execution_count": 6,
   "metadata": {},
   "outputs": [
    {
     "data": {
      "text/plain": [
       "True"
      ]
     },
     "execution_count": 6,
     "metadata": {},
     "output_type": "execute_result"
    }
   ],
   "source": [
    "# any() : 반복 가능한 데이터 x를 입력으로 받아 x의 요소 중 하나라도 참이 있으면 True를 리턴하고, x가 모두 거짓일 때만 False를 리턴\n",
    "any([1, 2, 3, 0])"
   ]
  },
  {
   "cell_type": "code",
   "execution_count": 7,
   "metadata": {},
   "outputs": [
    {
     "data": {
      "text/plain": [
       "False"
      ]
     },
     "execution_count": 7,
     "metadata": {},
     "output_type": "execute_result"
    }
   ],
   "source": [
    "any([0, \"\"]) # 모두 거짓이므로 False를 리턴"
   ]
  },
  {
   "cell_type": "code",
   "execution_count": 8,
   "metadata": {},
   "outputs": [
    {
     "data": {
      "text/plain": [
       "False"
      ]
     },
     "execution_count": 8,
     "metadata": {},
     "output_type": "execute_result"
    }
   ],
   "source": [
    "any([]) # any의 입력 인수가 빈 값인 경우에는 False를 리턴"
   ]
  },
  {
   "cell_type": "code",
   "execution_count": 12,
   "metadata": {},
   "outputs": [
    {
     "data": {
      "text/plain": [
       "'a'"
      ]
     },
     "execution_count": 12,
     "metadata": {},
     "output_type": "execute_result"
    }
   ],
   "source": [
    "# chr() : 유니코드 숫자 값을 입력받아 그 코드에 해당하는 문자를 리턴\n",
    "chr(97) # a\n",
    "chr(65) # A\n",
    "chr(44032) #'가'"
   ]
  },
  {
   "cell_type": "code",
   "execution_count": 15,
   "metadata": {},
   "outputs": [
    {
     "data": {
      "text/plain": [
       "90"
      ]
     },
     "execution_count": 15,
     "metadata": {},
     "output_type": "execute_result"
    }
   ],
   "source": [
    "# ord() : 문자의 유니코드 숫자 값을 리턴\n",
    "ord('a')\n",
    "ord('나')\n",
    "ord('Z')"
   ]
  },
  {
   "cell_type": "code",
   "execution_count": null,
   "metadata": {},
   "outputs": [],
   "source": [
    "# dir() : 객체가 지닌 함수나 변수를 보여줌\n",
    "dir([1, 2, 3])\n",
    "dir({'1' : 'a'})"
   ]
  },
  {
   "cell_type": "code",
   "execution_count": 22,
   "metadata": {},
   "outputs": [
    {
     "data": {
      "text/plain": [
       "(2, 1)"
      ]
     },
     "execution_count": 22,
     "metadata": {},
     "output_type": "execute_result"
    }
   ],
   "source": [
    "# divmod() : 2개의 숫자 a, b를 입력으로 받아서 a를 b로 나눈 몫과 나머지를 튜플로 리턴\n",
    "divmod(7, 3)"
   ]
  },
  {
   "cell_type": "code",
   "execution_count": 23,
   "metadata": {},
   "outputs": [
    {
     "name": "stdout",
     "output_type": "stream",
     "text": [
      "0 body\n",
      "1 foo\n",
      "2 bar\n"
     ]
    }
   ],
   "source": [
    "# enumerate() : 순서가 있는 데이터(리스트, 튜플, 문자열)를 입력으로 받아서 인덱스 값을 포함하는 enumerate 객체를 리턴\n",
    "\n",
    "for i, name in enumerate(['body', 'foo', 'bar']):\n",
    "  print(i, name)"
   ]
  },
  {
   "cell_type": "code",
   "execution_count": 30,
   "metadata": {},
   "outputs": [
    {
     "name": "stdout",
     "output_type": "stream",
     "text": [
      "[1, 6]\n",
      "[1, 2, 6]\n"
     ]
    }
   ],
   "source": [
    "# filter() : 첫번째 인수로 함수, 두번째 인수로 그 함수에 차례로 들어갈 반복 가능한 데이터를 받음\n",
    "# 반복 가능한 데이터의 요소 순서대로 함수를 호출했을 때 리턴이 참인 것만 묶어서(걸러내서) 리턴\n",
    "\n",
    "# filter 함수를 사용하지 않는 코드드\n",
    "def positive(l):\n",
    "  result = []\n",
    "  for i in l:\n",
    "    if i > 0:\n",
    "      result.append(i)\n",
    "  return result\n",
    "print(positive([1, -3, 0, -5, 6]))\n",
    "\n",
    "# filter 함수를 사용해서 간단히 표현 가능\n",
    "def positive(x):\n",
    "  return x > 0\n",
    "\n",
    "print(list(filter(positive, [1, -3, 2, 0, -5, 6])))"
   ]
  },
  {
   "cell_type": "code",
   "execution_count": 31,
   "metadata": {},
   "outputs": [
    {
     "data": {
      "text/plain": [
       "['p', 'y', 't', 'h', 'o', 'n']"
      ]
     },
     "execution_count": 31,
     "metadata": {},
     "output_type": "execute_result"
    }
   ],
   "source": [
    "# list() : 반복 가능한 데이터를 입력 받아서 리스트로 만들어서 리턴\n",
    "list(\"python\")"
   ]
  },
  {
   "cell_type": "code",
   "execution_count": 32,
   "metadata": {},
   "outputs": [
    {
     "data": {
      "text/plain": [
       "[1, 2, 3]"
      ]
     },
     "execution_count": 32,
     "metadata": {},
     "output_type": "execute_result"
    }
   ],
   "source": [
    "list((1, 2, 3))"
   ]
  },
  {
   "cell_type": "code",
   "execution_count": 34,
   "metadata": {},
   "outputs": [
    {
     "name": "stdout",
     "output_type": "stream",
     "text": [
      "[2, 4, 6, 8]\n"
     ]
    },
    {
     "data": {
      "text/plain": [
       "[2, 4, 6, 8]"
      ]
     },
     "execution_count": 34,
     "metadata": {},
     "output_type": "execute_result"
    }
   ],
   "source": [
    "# map () : 함수와 반복 가능한 데이터를 입력으로 받아 입력 받은 데이터의 각 요소에 함수를 적용한 결과를 리턴\n",
    "\n",
    "# map 함수 사용하지 않은 코드\n",
    "def two_times(numberList):\n",
    "  result = []\n",
    "  for number in numberList:\n",
    "    result.append(number * 2)\n",
    "  return result\n",
    "\n",
    "result = two_times([1, 2, 3, 4])\n",
    "print(result)\n",
    "\n",
    "# map() 함수 사용해서 간단하게 처리하는 코드\n",
    "def two_times2(number):\n",
    "  return number * 2\n",
    "\n",
    "list(map(two_times2, [1, 2, 3, 4]))"
   ]
  },
  {
   "cell_type": "code",
   "execution_count": 36,
   "metadata": {},
   "outputs": [
    {
     "data": {
      "text/plain": [
       "'y'"
      ]
     },
     "execution_count": 36,
     "metadata": {},
     "output_type": "execute_result"
    }
   ],
   "source": [
    "# max() : 반복 가능한 데이터를 입력 받아 그 최댓값을 리턴\n",
    "max([1, 2, 3])\n",
    "max(\"python\")"
   ]
  },
  {
   "cell_type": "code",
   "execution_count": 38,
   "metadata": {},
   "outputs": [
    {
     "data": {
      "text/plain": [
       "'h'"
      ]
     },
     "execution_count": 38,
     "metadata": {},
     "output_type": "execute_result"
    }
   ],
   "source": [
    "# min() : 반복 가능한 데이터를 입력 받아 그 최솟값을 리턴\n",
    "\n",
    "min([1, 2, 3])\n",
    "min(\"python\")\n"
   ]
  },
  {
   "cell_type": "code",
   "execution_count": 39,
   "metadata": {},
   "outputs": [
    {
     "data": {
      "text/plain": [
       "27"
      ]
     },
     "execution_count": 39,
     "metadata": {},
     "output_type": "execute_result"
    }
   ],
   "source": [
    "# pow(x, y) : x를 y제곱한 결과를 리턴\n",
    "pow(2, 4)\n",
    "pow(3, 3)"
   ]
  },
  {
   "cell_type": "code",
   "execution_count": 40,
   "metadata": {},
   "outputs": [
    {
     "name": "stdout",
     "output_type": "stream",
     "text": [
      "[4, 3, 2, 1]\n",
      "[1, 2, 3, 4]\n"
     ]
    }
   ],
   "source": [
    "# reversed() : 반복 가능한 객체를 뒤집어서 반환\n",
    "# 원래 데이터는 변하지 않고, 뒤집힌 결과를 이터레이터로 반환\n",
    "\n",
    "numbers = [1, 2, 3, 4]\n",
    "reversed_numbers = list(reversed(numbers)) #reversed()는 이터레이터를 반환하므로 리스트로 변환\n",
    "print(reversed_numbers)\n",
    "print(numbers)"
   ]
  },
  {
   "cell_type": "code",
   "execution_count": 43,
   "metadata": {},
   "outputs": [
    {
     "data": {
      "text/plain": [
       "4"
      ]
     },
     "execution_count": 43,
     "metadata": {},
     "output_type": "execute_result"
    }
   ],
   "source": [
    "# round() : 숫자를 입력 받아 반올림해서 리턴하는 함수\n",
    "round(4.6)\n",
    "round(4.2)"
   ]
  },
  {
   "cell_type": "code",
   "execution_count": 47,
   "metadata": {},
   "outputs": [
    {
     "data": {
      "text/plain": [
       "5.7"
      ]
     },
     "execution_count": 47,
     "metadata": {},
     "output_type": "execute_result"
    }
   ],
   "source": [
    "# 실수 5.676을 소숫점 2자리까지만 반올림하여 표시\n",
    "# round함수의 두번째 인수는 반올림하여 표시하고 싶은 소수점의 자릿수를 의미\n",
    "round(5.676, 2)\n",
    "round(5.676, 1)"
   ]
  },
  {
   "cell_type": "code",
   "execution_count": 49,
   "metadata": {},
   "outputs": [
    {
     "data": {
      "text/plain": [
       "['e', 'o', 'r', 'z']"
      ]
     },
     "execution_count": 49,
     "metadata": {},
     "output_type": "execute_result"
    }
   ],
   "source": [
    "# sorted() : 입력 데이터를 정렬한 후 그 결과를 리스트로 리턴\n",
    "sorted([3, 1, 2])\n",
    "sorted(\"zero\")"
   ]
  },
  {
   "cell_type": "code",
   "execution_count": 50,
   "metadata": {},
   "outputs": [
    {
     "data": {
      "text/plain": [
       "6"
      ]
     },
     "execution_count": 50,
     "metadata": {},
     "output_type": "execute_result"
    }
   ],
   "source": [
    "# sum() : 입력 데이터의 합을 반환\n",
    "sum([1, 2, 3])"
   ]
  },
  {
   "cell_type": "code",
   "execution_count": 51,
   "metadata": {},
   "outputs": [
    {
     "data": {
      "text/plain": [
       "15"
      ]
     },
     "execution_count": 51,
     "metadata": {},
     "output_type": "execute_result"
    }
   ],
   "source": [
    "sum((4, 5, 6))"
   ]
  },
  {
   "cell_type": "code",
   "execution_count": 57,
   "metadata": {},
   "outputs": [
    {
     "data": {
      "text/plain": [
       "list"
      ]
     },
     "execution_count": 57,
     "metadata": {},
     "output_type": "execute_result"
    }
   ],
   "source": [
    "# type() : 입력값의 자료형이 무엇인지 알려주는 함수\n",
    "type(\"abc\")\n",
    "type([])"
   ]
  }
 ],
 "metadata": {
  "kernelspec": {
   "display_name": "Python 3",
   "language": "python",
   "name": "python3"
  },
  "language_info": {
   "codemirror_mode": {
    "name": "ipython",
    "version": 3
   },
   "file_extension": ".py",
   "mimetype": "text/x-python",
   "name": "python",
   "nbconvert_exporter": "python",
   "pygments_lexer": "ipython3",
   "version": "3.13.1"
  }
 },
 "nbformat": 4,
 "nbformat_minor": 2
}
