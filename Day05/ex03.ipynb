{
 "cells": [
  {
   "cell_type": "markdown",
   "metadata": {},
   "source": [
    "# 딕셔너리 관련 함수\n",
    "- key 리스트 만들기 : keys()\n",
    "- value 리스트 만들기 : values()\n",
    "- key, value 쌍 얻기 : items()\n",
    "- key, value 쌍 지우기 : clear()\n",
    "- key로 value 얻기 : get()\n",
    "- 해당 key가 딕셔너리 안에 있는지 조사하기 : in()\n",
    "- key 값에 따라 정렬하기 : sorted()"
   ]
  },
  {
   "cell_type": "code",
   "execution_count": 1,
   "metadata": {},
   "outputs": [
    {
     "name": "stdout",
     "output_type": "stream",
     "text": [
      "dict_keys(['name', 'phone', 'birth'])\n",
      "name\n",
      "phone\n",
      "birth\n",
      "dict_keys(['축구', '피겨', '수영'])\n",
      "축구\n",
      "피겨\n",
      "수영\n"
     ]
    }
   ],
   "source": [
    "# key 리스트 만들기 : keys()\n",
    "# 딕셔너리의 모든 key값을 모아서 리스트와 유사한 형태로 반환\n",
    "# 딕셔너리.keys()\n",
    "\n",
    "a = {'name' : 'pey', 'phone' : '010-1234-1234', 'birth' : '1111'}\n",
    "\n",
    "print(a.keys())\n",
    "# a.keys()\n",
    "\n",
    "# for문을 활용해 딕셔너리의 key들을 반복문으로 하나씩 출력\n",
    "for k in a.keys(): \n",
    "  print(k)\n",
    "  \n",
    "sport = {\n",
    "  '축구' : '손흥민',\n",
    "  '피겨' : '김연아',\n",
    "  '수영' : '박태환'\n",
    "}\n",
    "\n",
    "print(sport.keys())\n",
    "\n",
    "for i in sport.keys():\n",
    "  print(i)"
   ]
  },
  {
   "cell_type": "code",
   "execution_count": 9,
   "metadata": {},
   "outputs": [
    {
     "name": "stdout",
     "output_type": "stream",
     "text": [
      "dict_keys(['name', 'phone', 'birth'])\n",
      "<class 'dict_keys'>\n",
      "['name', 'phone', 'birth']\n"
     ]
    }
   ],
   "source": [
    "a = {'name' : 'pey', 'phone' : '010-1234-1234', 'birth' : '1111'}\n",
    "print(a.keys())\n",
    "print(type(a.keys())) # 타입 확인\n",
    "\n",
    "print(list(a.keys())) # 딕셔너리의 key들을 list() 함수를 활용해 리스트로 변환하여 출력"
   ]
  },
  {
   "cell_type": "code",
   "execution_count": null,
   "metadata": {},
   "outputs": [],
   "source": [
    "# Value 리스트 만들기\n",
    "# 딕셔너리의 value값만 모아서 리스트와 비슷한 형태로 반환\n",
    "# 딕셔너리.values()\n",
    "a = {'name' : 'pey', 'phone' : '010-1234-1234', 'birth' : '1111'}\n",
    "\n",
    "print(a.values())\n",
    "\n",
    "for i in a.values():\n",
    "  print(i)\n",
    "  \n",
    "print(list(a.values())) # 리스트로 변환하여 출력"
   ]
  },
  {
   "cell_type": "code",
   "execution_count": 10,
   "metadata": {},
   "outputs": [
    {
     "name": "stdout",
     "output_type": "stream",
     "text": [
      "dict_items([('name', 'pay'), ('phone', '010-1234-1234'), ('birth', '1111')])\n",
      "('name', 'pay') <class 'tuple'>\n",
      "('phone', '010-1234-1234') <class 'tuple'>\n",
      "('birth', '1111') <class 'tuple'>\n"
     ]
    }
   ],
   "source": [
    "# key값, value 값 쌍으로 얻기 : items()\n",
    "# 딕셔너리의 key값과 value값을 하나의 쌍으로 묶어서 반환\n",
    "# 딕셔너리.items()\n",
    "a = {'name': 'pay', 'phone': '010-1234-1234', 'birth' : '1111'}\n",
    "print(a.items())\n",
    "\n",
    "for i in a.items():\n",
    "  print(i, type(i)) # 튜플 형태로 변환"
   ]
  },
  {
   "cell_type": "code",
   "execution_count": 15,
   "metadata": {},
   "outputs": [
    {
     "name": "stdout",
     "output_type": "stream",
     "text": [
      "pay\n",
      "010-1234-1234\n",
      "None\n"
     ]
    }
   ],
   "source": [
    "# key로 value 얻기 : get()\n",
    "# get(x) 함수는 x라는 key에 대응되는 value를 리턴\n",
    "# a.get('name')은 a['name']를 사용했을 때와 동일한 결과 값을 리턴\n",
    "a = {'name' : 'pay', 'phone' : '010-1234-1234', 'birth' : '1111'}\n",
    "\n",
    "print(a.get('name'))\n",
    "print(a.get('phone'))\n",
    "\n",
    "print(a.get('nokey')) # None을 리턴\n",
    "# print(a['nokey']) 오류 발생\n"
   ]
  },
  {
   "cell_type": "code",
   "execution_count": null,
   "metadata": {},
   "outputs": [],
   "source": [
    "# 해당 key가 딕셔너리 안에 있는지 조사하기 : in()\n",
    "a = {'name' : 'pay', 'phone' : '010-1234-1234', 'birth' : '1111'}\n",
    "\n",
    "# 'name'이 딕셔너리 a에 있는지 확인\n",
    "print('name' in a)\n",
    "\n",
    "# 'email'이 딕셔너리 a에 있는지 확인\n",
    "print('email' in a)\n",
    "\n",
    "# 'email'이 딕셔너리 a에 없는지 확인\n",
    "print('email' not in a)"
   ]
  },
  {
   "cell_type": "code",
   "execution_count": 20,
   "metadata": {},
   "outputs": [
    {
     "name": "stdout",
     "output_type": "stream",
     "text": [
      "[('ian', 'C'), ('json', 'A'), ('kelly', 'B'), ('selly', 'D')]\n"
     ]
    }
   ],
   "source": [
    "# key 값에 따라 정렬하기 : sorted()\n",
    "# sorted()는 딕셔너리를 새로운 리스트로 변환하여 반환\n",
    "# 리스트의 요소들은 키 값에 따라 오름차순 또는 내림차순으로 정렬 (기본 오름차순)\n",
    "# sorted(딕셔너리.items())\n",
    "# sorted()를 사용하여 딕셔너리를 정렬하더라도 원본 딕셔너리는 변경되지 않음!!!\n",
    "\n",
    "grade = {\n",
    "  \"kelly\" : \"B\",\n",
    "  \"json\" : \"A\",\n",
    "  \"ian\" : \"C\", \n",
    "  \"selly\" : \"D\"\n",
    "}\n",
    "\n",
    "print(sorted(grade.items())) # 기본 오름차순 정렬\n",
    "\n",
    "# 내림차순 정렬\n",
    "print(sorted(grade.items(), reverse=True)) # reverse=True 속성 추가"
   ]
  }
 ],
 "metadata": {
  "kernelspec": {
   "display_name": "Python 3",
   "language": "python",
   "name": "python3"
  },
  "language_info": {
   "codemirror_mode": {
    "name": "ipython",
    "version": 3
   },
   "file_extension": ".py",
   "mimetype": "text/x-python",
   "name": "python",
   "nbconvert_exporter": "python",
   "pygments_lexer": "ipython3",
   "version": "3.13.1"
  }
 },
 "nbformat": 4,
 "nbformat_minor": 2
}
