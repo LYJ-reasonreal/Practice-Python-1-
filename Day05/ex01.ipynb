{
 "cells": [
  {
   "cell_type": "markdown",
   "metadata": {},
   "source": [
    "# 튜플 자료형\n",
    "- 튜플은 리스트와 유사한 형태를 가지는 자료구조\n",
    "- 튜플도 자료형(데이터의 타입)이자 자료구조(데이터를 저장하고 관리하는 방식)\n",
    "- 튜플도 리스트와 마찬가지로 순서가 있는 데이터의 집합을 표현할 수 있음\n",
    "- 여러 개의 값을 순서대로 저장(다양한 자료형 저장 가능)\n",
    "- 하지만 튜플은 불변!\n",
    "- 튜플은 한번 생성된 후에는 요소의 값을 변경하거나 삭제할 수 없음\n",
    "- 값이 수정되지 않으므로 데이터가 변하지 않아야 하는 경우에 유용하게 사용(데이터를 안정하게 저장)\n",
    "- 인덱스를 사용해 각 요소에 접근할 수 있으며 슬라이싱 등을 통해 튜플의 요소를 처리 가능\n",
    "\n",
    "# 리스트와 튜플의 차이\n",
    "- 리스트는 [], 튜플은 ()로 둘러싼다.\n",
    "- 변수명 = [1, 2, 3] # 리스트\n",
    "- 변수명 = {1, 2, 3} # 튜플\n",
    "- 리스트는 요소값의 새성, 삭제, 수정이 가능하지만, 튜플은 요소값을 바꿀 수 없다.\n",
    "- 요소의 값을 바꿀 수 있나 없나의 차이!"
   ]
  },
  {
   "cell_type": "code",
   "execution_count": 11,
   "metadata": {},
   "outputs": [
    {
     "name": "stdout",
     "output_type": "stream",
     "text": [
      "<class 'int'>\n",
      "<class 'tuple'>\n",
      "()\n",
      "(1,)\n",
      "1\n",
      "(1, 2, 3)\n",
      "(1, 2, 3)\n",
      "('a', 'b', 1, ('ab', 'cd', True))\n"
     ]
    }
   ],
   "source": [
    "t1 = () # 빈 튜플 생성\n",
    "t2 = (1,) # 튜플에 요소가 하나만 있을 때는 뒤에 쉼표를 꼭 붙여야 함\n",
    "t2_1 = (1) # 쉼표 없이 정의하면 튜플이 아님!!!!\n",
    "print(type(t2_1))\n",
    "print(type(t2))\n",
    "t3 = (1, 2, 3)\n",
    "t4 = 1, 2, 3 # 튜플은 소괄호 없이 쉼표만 사용해도 생성됨\n",
    "# 빈 튜플 만들 때는 반드시 소괄호 포함\n",
    "t5 = ('a', 'b', 1, ('ab', 'cd', True)) # 튜플 안에 다른 요소들 포함 가능\n",
    "\n",
    "print(t1)\n",
    "print(t2)\n",
    "print(t2_1)\n",
    "print(t3)\n",
    "print(t4)\n",
    "print(t5)"
   ]
  },
  {
   "cell_type": "code",
   "execution_count": 12,
   "metadata": {},
   "outputs": [
    {
     "name": "stdout",
     "output_type": "stream",
     "text": [
      "kim\n",
      "lee\n",
      "park\n",
      "park\n",
      "kim\n"
     ]
    }
   ],
   "source": [
    "# 인덱스 활용해 튜플의 요소에 접근하기\n",
    "name = ('kim', 'lee', 'park')\n",
    "\n",
    "name1 = name[0]\n",
    "name2 = name[1]\n",
    "name3 = name[2]\n",
    "\n",
    "print(name1)\n",
    "print(name2)\n",
    "print(name3)\n",
    "print(name[-1])\n",
    "print(name[-3])"
   ]
  },
  {
   "cell_type": "code",
   "execution_count": null,
   "metadata": {},
   "outputs": [],
   "source": [
    "# 튜플의 요솟값을 지우거나 변경을 시도 : 불가능!!!!\n",
    "t1 = (1, 2, 'a', 'b')\n",
    "# del t1[0]\n",
    "# t1[0] = 'c'\n",
    "# t1.append(7)\n",
    "\n",
    "# 튜플은 불변성이라는 특징을 가지고 있어서 요소를 변경, 추가, 삭제할 수 없음"
   ]
  },
  {
   "cell_type": "code",
   "execution_count": 16,
   "metadata": {},
   "outputs": [
    {
     "name": "stdout",
     "output_type": "stream",
     "text": [
      "1\n",
      "b\n",
      "(2, 'a', 'b')\n",
      "('a', 'b')\n",
      "(1, 2, 'a', 'b')\n"
     ]
    }
   ],
   "source": [
    "# 튜플 인덱싱과 슬라이싱\n",
    "t1 = (1, 2, 'a', 'b')\n",
    "print(t1[0])\n",
    "print(t1[3])\n",
    "\n",
    "print(t1[1:])\n",
    "print(t1[2:4])\n",
    "\n",
    "print(t1[:])"
   ]
  },
  {
   "cell_type": "code",
   "execution_count": 18,
   "metadata": {},
   "outputs": [
    {
     "name": "stdout",
     "output_type": "stream",
     "text": [
      "(1, 2, 'a', 'b', 3, 4)\n",
      "(3, 4, 3, 4, 3, 4)\n",
      "4\n"
     ]
    }
   ],
   "source": [
    "# 튜플 더하기와 곱하기, 길이 구하기\n",
    "t1 = (1, 2, 'a', 'b')\n",
    "t2 = (3, 4)\n",
    "t3 = t1 + t2\n",
    "print(t3)\n",
    "\n",
    "t4 = t2 * 3\n",
    "print(t4)\n",
    "\n",
    "print(len(t1))"
   ]
  },
  {
   "cell_type": "code",
   "execution_count": 23,
   "metadata": {},
   "outputs": [
    {
     "name": "stdout",
     "output_type": "stream",
     "text": [
      "교환전 : x = 10 y = 20\n",
      "교환후 : x = 20 y = 10\n"
     ]
    }
   ],
   "source": [
    "# 튜플간 데이터 교환\n",
    "\n",
    "x = 10\n",
    "y = 20\n",
    "\n",
    "# 교환 전\n",
    "print('교환전 : x =', x, 'y =', y)\n",
    "\n",
    "# = 연산자를 활용한 데이터 교환 + 튜플 사용\n",
    "(x, y) = (y, x)\n",
    "\n",
    "# 교환 후\n",
    "print('교환후 : x =', x, 'y =', y)"
   ]
  },
  {
   "cell_type": "code",
   "execution_count": 27,
   "metadata": {},
   "outputs": [
    {
     "name": "stdout",
     "output_type": "stream",
     "text": [
      "4\n",
      "1\n",
      "2\n",
      "0\n"
     ]
    }
   ],
   "source": [
    "# count() 함수, index() 함수는 튜플에서 사용 가능\n",
    "\n",
    "# count() 함수\n",
    "t1 = ('a', 'a', 'b', 'c', 'a', 'a', 'c')\n",
    "print(t1.count('a'))\n",
    "print(t1.count('b'))\n",
    "print(t1.count('c'))\n",
    "print(t1.count('z')) # 찾고자 하는 값이 없으면 0을 반환"
   ]
  },
  {
   "cell_type": "code",
   "execution_count": 30,
   "metadata": {},
   "outputs": [
    {
     "name": "stdout",
     "output_type": "stream",
     "text": [
      "0\n",
      "2\n",
      "3\n"
     ]
    }
   ],
   "source": [
    "# index() 함수\n",
    "t1 = ('a', 'a', 'b', 'c', 'a', 'a', 'c')\n",
    "print(t1.index('a'))\n",
    "print(t1.index('b'))\n",
    "print(t1.index('c'))\n",
    "# print(t1.index('z')) 찾고자 하는 값이 존재하지 않으면 오류 발생"
   ]
  }
 ],
 "metadata": {
  "kernelspec": {
   "display_name": "Python 3",
   "language": "python",
   "name": "python3"
  },
  "language_info": {
   "codemirror_mode": {
    "name": "ipython",
    "version": 3
   },
   "file_extension": ".py",
   "mimetype": "text/x-python",
   "name": "python",
   "nbconvert_exporter": "python",
   "pygments_lexer": "ipython3",
   "version": "3.13.1"
  }
 },
 "nbformat": 4,
 "nbformat_minor": 2
}
